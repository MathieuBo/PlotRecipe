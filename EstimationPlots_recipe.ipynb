{
 "cells": [
  {
   "cell_type": "markdown",
   "metadata": {},
   "source": [
    "# Demo EstimationPlots "
   ]
  },
  {
   "cell_type": "markdown",
   "metadata": {},
   "source": [
    "First, we need to load in Python the required packages. We will need 3 packages: \n",
    "- Dabest (package for estimation plots)\n",
    "- Matplotlib (plot aesthetics)\n",
    "- Pandas (to control datasheets)\n",
    "- Statsmodels (for statistical analyses)"
   ]
  },
  {
   "cell_type": "code",
   "execution_count": 1,
   "metadata": {},
   "outputs": [],
   "source": [
    "import dabest\n",
    "import matplotlib.pyplot as plt\n",
    "import pandas as pd\n",
    "\n",
    "import statsmodels.formula.api as smf\n",
    "from statsmodels.stats.anova import anova_lm\n",
    "from statsmodels.stats.multicomp import pairwise_tukeyhsd"
   ]
  },
  {
   "cell_type": "markdown",
   "metadata": {},
   "source": [
    "## Figure 1 - Two groups"
   ]
  },
  {
   "cell_type": "code",
   "execution_count": 2,
   "metadata": {},
   "outputs": [],
   "source": [
    "# Load file\n",
    "df = pd.read_excel('./datasets/Fig_data.xlsx', sheet_name='1C')"
   ]
  },
  {
   "cell_type": "code",
   "execution_count": 3,
   "metadata": {},
   "outputs": [
    {
     "data": {
      "text/html": [
       "<div>\n",
       "<style scoped>\n",
       "    .dataframe tbody tr th:only-of-type {\n",
       "        vertical-align: middle;\n",
       "    }\n",
       "\n",
       "    .dataframe tbody tr th {\n",
       "        vertical-align: top;\n",
       "    }\n",
       "\n",
       "    .dataframe thead th {\n",
       "        text-align: right;\n",
       "    }\n",
       "</style>\n",
       "<table border=\"1\" class=\"dataframe\">\n",
       "  <thead>\n",
       "    <tr style=\"text-align: right;\">\n",
       "      <th></th>\n",
       "      <th>Animal_ID</th>\n",
       "      <th>Group</th>\n",
       "      <th>Values</th>\n",
       "    </tr>\n",
       "  </thead>\n",
       "  <tbody>\n",
       "    <tr>\n",
       "      <th>0</th>\n",
       "      <td>1</td>\n",
       "      <td>Vehicle</td>\n",
       "      <td>3763</td>\n",
       "    </tr>\n",
       "    <tr>\n",
       "      <th>1</th>\n",
       "      <td>2</td>\n",
       "      <td>Vehicle</td>\n",
       "      <td>3610</td>\n",
       "    </tr>\n",
       "    <tr>\n",
       "      <th>2</th>\n",
       "      <td>3</td>\n",
       "      <td>Vehicle</td>\n",
       "      <td>4378</td>\n",
       "    </tr>\n",
       "    <tr>\n",
       "      <th>3</th>\n",
       "      <td>4</td>\n",
       "      <td>Vehicle</td>\n",
       "      <td>3456</td>\n",
       "    </tr>\n",
       "    <tr>\n",
       "      <th>4</th>\n",
       "      <td>5</td>\n",
       "      <td>Vehicle</td>\n",
       "      <td>3226</td>\n",
       "    </tr>\n",
       "  </tbody>\n",
       "</table>\n",
       "</div>"
      ],
      "text/plain": [
       "   Animal_ID    Group  Values\n",
       "0          1  Vehicle    3763\n",
       "1          2  Vehicle    3610\n",
       "2          3  Vehicle    4378\n",
       "3          4  Vehicle    3456\n",
       "4          5  Vehicle    3226"
      ]
     },
     "execution_count": 3,
     "metadata": {},
     "output_type": "execute_result"
    }
   ],
   "source": [
    "# Show only the first five lines of the datasheet. If you want to see more, use df instead of df.head()\n",
    "df.head()"
   ]
  },
  {
   "cell_type": "code",
   "execution_count": 4,
   "metadata": {},
   "outputs": [],
   "source": [
    "# Create object\n",
    "data = dabest.load(data=df, x='Group', y='Values', idx=('Vehicle', 'Ttt'))"
   ]
  },
  {
   "cell_type": "markdown",
   "metadata": {},
   "source": [
    "Statistical test results"
   ]
  },
  {
   "cell_type": "code",
   "execution_count": 5,
   "metadata": {},
   "outputs": [
    {
     "data": {
      "text/html": [
       "<div>\n",
       "<style scoped>\n",
       "    .dataframe tbody tr th:only-of-type {\n",
       "        vertical-align: middle;\n",
       "    }\n",
       "\n",
       "    .dataframe tbody tr th {\n",
       "        vertical-align: top;\n",
       "    }\n",
       "\n",
       "    .dataframe thead th {\n",
       "        text-align: right;\n",
       "    }\n",
       "</style>\n",
       "<table border=\"1\" class=\"dataframe\">\n",
       "  <thead>\n",
       "    <tr style=\"text-align: right;\">\n",
       "      <th></th>\n",
       "      <th>control</th>\n",
       "      <th>test</th>\n",
       "      <th>control_N</th>\n",
       "      <th>test_N</th>\n",
       "      <th>effect_size</th>\n",
       "      <th>is_paired</th>\n",
       "      <th>difference</th>\n",
       "      <th>ci</th>\n",
       "      <th>bca_low</th>\n",
       "      <th>bca_high</th>\n",
       "      <th>pvalue_permutation</th>\n",
       "      <th>pvalue_welch</th>\n",
       "      <th>statistic_welch</th>\n",
       "      <th>pvalue_students_t</th>\n",
       "      <th>statistic_students_t</th>\n",
       "      <th>pvalue_mann_whitney</th>\n",
       "      <th>statistic_mann_whitney</th>\n",
       "    </tr>\n",
       "  </thead>\n",
       "  <tbody>\n",
       "    <tr>\n",
       "      <th>0</th>\n",
       "      <td>Vehicle</td>\n",
       "      <td>Ttt</td>\n",
       "      <td>5</td>\n",
       "      <td>10</td>\n",
       "      <td>mean difference</td>\n",
       "      <td>False</td>\n",
       "      <td>-1651.3</td>\n",
       "      <td>95</td>\n",
       "      <td>-2181.3</td>\n",
       "      <td>-1267.4</td>\n",
       "      <td>0.0</td>\n",
       "      <td>0.000098</td>\n",
       "      <td>6.759737</td>\n",
       "      <td>0.000018</td>\n",
       "      <td>6.581332</td>\n",
       "      <td>0.002624</td>\n",
       "      <td>50.0</td>\n",
       "    </tr>\n",
       "  </tbody>\n",
       "</table>\n",
       "</div>"
      ],
      "text/plain": [
       "   control test  control_N  test_N      effect_size  is_paired  difference  \\\n",
       "0  Vehicle  Ttt          5      10  mean difference      False     -1651.3   \n",
       "\n",
       "   ci  bca_low  bca_high  pvalue_permutation  pvalue_welch  statistic_welch  \\\n",
       "0  95  -2181.3   -1267.4                 0.0      0.000098         6.759737   \n",
       "\n",
       "   pvalue_students_t  statistic_students_t  pvalue_mann_whitney  \\\n",
       "0           0.000018              6.581332             0.002624   \n",
       "\n",
       "   statistic_mann_whitney  \n",
       "0                    50.0  "
      ]
     },
     "execution_count": 5,
     "metadata": {},
     "output_type": "execute_result"
    }
   ],
   "source": [
    "data.mean_diff.statistical_tests"
   ]
  },
  {
   "cell_type": "markdown",
   "metadata": {},
   "source": [
    "Prepare the plots"
   ]
  },
  {
   "cell_type": "code",
   "execution_count": 6,
   "metadata": {},
   "outputs": [],
   "source": [
    "# Plot details \n",
    "\n",
    "'''Label of the left Y axis'''\n",
    "y_label = 'Number of steps'  \n",
    "\n",
    "'''\n",
    "Left Y axis limits. Use the format (min, max). \n",
    "If left None the program will decide. \n",
    "'''\n",
    "y_axis_lim = (0, 5000) \n",
    "\n",
    "'''\n",
    "Dot size in the swarm plot\n",
    "'''\n",
    "dot_size = 6\n",
    "\n",
    "'''\n",
    "Colors of the group. \n",
    "Use https://matplotlib.org/stable/gallery/color/named_colors.html for color code.\n",
    "You can also use hexadecimal colors with the #XXXXXX. \n",
    "As a list: ['a', 'b', 'c', ...]\n",
    "'''\n",
    "colors = ['blue', 'orange'] \n",
    "\n",
    "'''\n",
    "Label of the right Y axis\n",
    "'''\n",
    "contrast_label = 'Mean difference'\n",
    "\n",
    "\n",
    "'''\n",
    "Group names. \n",
    "As a list: ['a', 'b', 'c', ...]\n",
    "'''\n",
    "group_names = ['Vehicle', 'Ttt']\n",
    "\n",
    "'''\n",
    "Name of the output file.\n",
    "Include the desired extenstion (.pdf, .png)\n",
    "'''\n",
    "output = 'Figure1.pdf'"
   ]
  },
  {
   "cell_type": "code",
   "execution_count": 7,
   "metadata": {},
   "outputs": [
    {
     "data": {
      "image/png": "[encoded data removed]",
      "text/plain": [
       "<Figure size 400x300 with 2 Axes>"
      ]
     },
     "metadata": {
      "needs_background": "light"
     },
     "output_type": "display_data"
    }
   ],
   "source": [
    "# Do the plot\n",
    "p = data.mean_diff.plot(group_summaries='mean_sd', \n",
    "                        swarm_label=y_label, \n",
    "                        swarm_ylim=y_axis_lim,\n",
    "                        raw_marker_size=dot_size,\n",
    "                        custom_palette=colors, \n",
    "                        swarm_desat=.6, \n",
    "                        contrast_label=contrast_label,\n",
    "                        halfviolin_alpha=.5, contrast_ylim=(0, -3000),\n",
    "                        halfviolin_desat=1, \n",
    "                        fig_size=(4,3))\n",
    "\n",
    "rawdata_axes = p.axes[0]\n",
    "effsize_axes = p.axes[1]\n",
    "\n",
    "rawdata_axes.set_xticklabels(group_names)\n",
    "effsize_axes.set_xticklabels([\"\", \"Effect size\"])\n",
    "\n",
    "plt.savefig('./{}'.format(output))\n",
    "\n",
    "plt.show()"
   ]
  },
  {
   "cell_type": "code",
   "execution_count": 8,
   "metadata": {},
   "outputs": [],
   "source": [
    "# Export Stats results\n",
    "data.mean_diff.statistical_tests.to_excel(f\"{output.split('.')[0]}-stats.xlsx\")"
   ]
  },
  {
   "cell_type": "markdown",
   "metadata": {},
   "source": [
    "## Figure 2 - Response to XXX"
   ]
  },
  {
   "cell_type": "code",
   "execution_count": 9,
   "metadata": {},
   "outputs": [],
   "source": [
    "# Load file\n",
    "df = pd.read_excel('./datasets/Fig_data.xlsx', sheet_name='paired')"
   ]
  },
  {
   "cell_type": "code",
   "execution_count": 10,
   "metadata": {},
   "outputs": [
    {
     "data": {
      "text/html": [
       "<div>\n",
       "<style scoped>\n",
       "    .dataframe tbody tr th:only-of-type {\n",
       "        vertical-align: middle;\n",
       "    }\n",
       "\n",
       "    .dataframe tbody tr th {\n",
       "        vertical-align: top;\n",
       "    }\n",
       "\n",
       "    .dataframe thead th {\n",
       "        text-align: right;\n",
       "    }\n",
       "</style>\n",
       "<table border=\"1\" class=\"dataframe\">\n",
       "  <thead>\n",
       "    <tr style=\"text-align: right;\">\n",
       "      <th></th>\n",
       "      <th>Animal_ID</th>\n",
       "      <th>Group</th>\n",
       "      <th>Values</th>\n",
       "    </tr>\n",
       "  </thead>\n",
       "  <tbody>\n",
       "    <tr>\n",
       "      <th>0</th>\n",
       "      <td>1</td>\n",
       "      <td>2mo</td>\n",
       "      <td>3763</td>\n",
       "    </tr>\n",
       "    <tr>\n",
       "      <th>1</th>\n",
       "      <td>2</td>\n",
       "      <td>2mo</td>\n",
       "      <td>3610</td>\n",
       "    </tr>\n",
       "    <tr>\n",
       "      <th>2</th>\n",
       "      <td>3</td>\n",
       "      <td>2mo</td>\n",
       "      <td>4378</td>\n",
       "    </tr>\n",
       "    <tr>\n",
       "      <th>3</th>\n",
       "      <td>4</td>\n",
       "      <td>2mo</td>\n",
       "      <td>3456</td>\n",
       "    </tr>\n",
       "    <tr>\n",
       "      <th>4</th>\n",
       "      <td>5</td>\n",
       "      <td>2mo</td>\n",
       "      <td>3226</td>\n",
       "    </tr>\n",
       "  </tbody>\n",
       "</table>\n",
       "</div>"
      ],
      "text/plain": [
       "   Animal_ID Group  Values\n",
       "0          1   2mo    3763\n",
       "1          2   2mo    3610\n",
       "2          3   2mo    4378\n",
       "3          4   2mo    3456\n",
       "4          5   2mo    3226"
      ]
     },
     "execution_count": 10,
     "metadata": {},
     "output_type": "execute_result"
    }
   ],
   "source": [
    "# Check dataframe\n",
    "df.head()"
   ]
  },
  {
   "cell_type": "markdown",
   "metadata": {},
   "source": [
    "Here, we will perform a One-Way ANOVA to compare the results. On line #3 of the next cell, the names needs to match the column names from the dataset above. "
   ]
  },
  {
   "cell_type": "code",
   "execution_count": 11,
   "metadata": {},
   "outputs": [
    {
     "name": "stdout",
     "output_type": "stream",
     "text": [
      "One-Way ANOVA\n",
      "F(2, 27) = 42.644893\n",
      "p value = 4.4036965694222745e-09\n"
     ]
    }
   ],
   "source": [
    "# Perform One-Way ANOVA and print results\n",
    "\n",
    "lm = smf.ols('Values ~ C(Group)', data=df).fit()\n",
    "print(\"One-Way ANOVA\")\n",
    "print(f'F({int(lm.df_model)}, {int(lm.df_resid)}) = {lm.fvalue:.6f}')\n",
    "print(f'p value = {lm.f_pvalue}')"
   ]
  },
  {
   "cell_type": "markdown",
   "metadata": {},
   "source": [
    "Pairwise comparisons using Tukey's post-hoc method"
   ]
  },
  {
   "cell_type": "code",
   "execution_count": 12,
   "metadata": {},
   "outputs": [
    {
     "data": {
      "text/html": [
       "<table class=\"simpletable\">\n",
       "<caption>Multiple Comparison of Means - Tukey HSD, FWER=0.05</caption>\n",
       "<tr>\n",
       "  <th>group1</th> <th>group2</th> <th>meandiff</th> <th>p-adj</th>    <th>lower</th>      <th>upper</th>   <th>reject</th>\n",
       "</tr>\n",
       "<tr>\n",
       "    <td>2mo</td>    <td>4mo</td>   <td>-1611.6</td> <td>0.001</td> <td>-2111.1127</td> <td>-1112.0873</td>  <td>True</td> \n",
       "</tr>\n",
       "<tr>\n",
       "    <td>2mo</td>    <td>8mo</td>   <td>-1611.6</td> <td>0.001</td> <td>-2111.1127</td> <td>-1112.0873</td>  <td>True</td> \n",
       "</tr>\n",
       "<tr>\n",
       "    <td>4mo</td>    <td>8mo</td>     <td>0.0</td>    <td>0.9</td>   <td>-499.5127</td>  <td>499.5127</td>   <td>False</td>\n",
       "</tr>\n",
       "</table>"
      ],
      "text/plain": [
       "<class 'statsmodels.iolib.table.SimpleTable'>"
      ]
     },
     "execution_count": 12,
     "metadata": {},
     "output_type": "execute_result"
    }
   ],
   "source": [
    "tuk = pairwise_tukeyhsd(df['Values'], df['Group'])\n",
    "tuk.summary()"
   ]
  },
  {
   "cell_type": "code",
   "execution_count": 13,
   "metadata": {},
   "outputs": [],
   "source": [
    "# Create object\n",
    "data = dabest.load(data=df, x='Group', y='Values', idx=('2mo', '4mo', '8mo'), \n",
    "                   id_col='Animal_ID', paired=False)"
   ]
  },
  {
   "cell_type": "markdown",
   "metadata": {},
   "source": [
    "Statistical test results"
   ]
  },
  {
   "cell_type": "code",
   "execution_count": 14,
   "metadata": {},
   "outputs": [],
   "source": [
    "# Plot details \n",
    "\n",
    "'''Label of the left Y axis'''\n",
    "y_label = 'Levels of the best protein \\n (% of controls)'  \n",
    "\n",
    "'''\n",
    "Left Y axis limits. Use the format (min, max). \n",
    "If left None the program will decide. \n",
    "'''\n",
    "y_axis_lim = None  \n",
    "\n",
    "'''\n",
    "Colors of the group. \n",
    "Use https://matplotlib.org/stable/gallery/color/named_colors.html for color code.\n",
    "You can also use hexadecimal colors with the #XXXXXX. \n",
    "As a list: ['a', 'b', 'c', ...]\n",
    "'''\n",
    "colors = ['black', 'red', 'red'] \n",
    "\n",
    "'''\n",
    "Label of the right Y axis\n",
    "'''\n",
    "contrast_label = 'Mean difference'\n",
    "\n",
    "\n",
    "'''Limits of bottom contrast plot. Use (min, max) format'''\n",
    "contrast_lim = (-3000, 500)\n",
    "\n",
    "'''\n",
    "Group names. \n",
    "As a list: ['a', 'b', 'c', ...]\n",
    "'''\n",
    "group_names = ['2mo', \"4mo\", '8mo']\n",
    "\n",
    "'''\n",
    "Name of the output file.\n",
    "Include the desired extenstion (.pdf, .png)\n",
    "'''\n",
    "output = 'Figure2.pdf'"
   ]
  },
  {
   "cell_type": "code",
   "execution_count": 15,
   "metadata": {},
   "outputs": [
    {
     "name": "stderr",
     "output_type": "stream",
     "text": [
      "/opt/anaconda3/lib/python3.7/site-packages/ipykernel_launcher.py:19: UserWarning: This figure includes Axes that are not compatible with tight_layout, so results might be incorrect.\n",
      "/opt/anaconda3/lib/python3.7/site-packages/ipykernel_launcher.py:19: UserWarning: This figure includes Axes that are not compatible with tight_layout, so results might be incorrect.\n",
      "/opt/anaconda3/lib/python3.7/site-packages/IPython/core/pylabtools.py:132: UserWarning: This figure includes Axes that are not compatible with tight_layout, so results might be incorrect.\n",
      "  fig.canvas.print_figure(bytes_io, **kw)\n"
     ]
    },
    {
     "data": {
      "image/png": "[encoded data removed]",
      "text/plain": [
       "<Figure size 600x700 with 2 Axes>"
      ]
     },
     "metadata": {
      "needs_background": "light"
     },
     "output_type": "display_data"
    }
   ],
   "source": [
    "# Do the plot\n",
    "p = data.mean_diff.plot(group_summaries='mean_sd', \n",
    "                        swarm_label=y_label, \n",
    "                        swarm_ylim=y_axis_lim,\n",
    "                        custom_palette=colors, \n",
    "                        swarm_desat=.6, \n",
    "                        contrast_label=contrast_label, \n",
    "                        contrast_ylim=contrast_lim,\n",
    "                        halfviolin_alpha=.5, \n",
    "                        halfviolin_desat=1, \n",
    "                        fig_size=(6,7), )\n",
    "\n",
    "rawdata_axes = p.axes[0]\n",
    "effsize_axes = p.axes[1]\n",
    "\n",
    "rawdata_axes.set_xticklabels(group_names)\n",
    "effsize_axes.set_xticklabels([\" \", \"Effect size\", 'Effect size'])\n",
    "\n",
    "plt.savefig('./{}'.format(output))\n",
    "\n",
    "plt.show()"
   ]
  },
  {
   "cell_type": "code",
   "execution_count": 16,
   "metadata": {},
   "outputs": [],
   "source": [
    "# Export the stats in an Excel sheet with a similar name as the figure\n",
    "with pd.ExcelWriter(f\"{output.split('.')[0]}-stats.xlsx\") as writer:\n",
    "    anova_lm(lm).to_excel(writer, 'ANOVA')\n",
    "    pd.DataFrame(tuk.summary()).to_excel(writer, 'Post-hoc', index=None)"
   ]
  },
  {
   "cell_type": "markdown",
   "metadata": {},
   "source": [
    "## Figure 3 - 2 by 2 design"
   ]
  },
  {
   "cell_type": "code",
   "execution_count": 17,
   "metadata": {},
   "outputs": [],
   "source": [
    "# Load file\n",
    "df = pd.read_excel('./datasets/Fig_data.xlsx', sheet_name='4_groups')"
   ]
  },
  {
   "cell_type": "code",
   "execution_count": 18,
   "metadata": {},
   "outputs": [
    {
     "data": {
      "text/html": [
       "<div>\n",
       "<style scoped>\n",
       "    .dataframe tbody tr th:only-of-type {\n",
       "        vertical-align: middle;\n",
       "    }\n",
       "\n",
       "    .dataframe tbody tr th {\n",
       "        vertical-align: top;\n",
       "    }\n",
       "\n",
       "    .dataframe thead th {\n",
       "        text-align: right;\n",
       "    }\n",
       "</style>\n",
       "<table border=\"1\" class=\"dataframe\">\n",
       "  <thead>\n",
       "    <tr style=\"text-align: right;\">\n",
       "      <th></th>\n",
       "      <th>Animal_ID</th>\n",
       "      <th>Condition1</th>\n",
       "      <th>Condition2</th>\n",
       "      <th>Values</th>\n",
       "    </tr>\n",
       "  </thead>\n",
       "  <tbody>\n",
       "    <tr>\n",
       "      <th>0</th>\n",
       "      <td>1</td>\n",
       "      <td>Vehicle</td>\n",
       "      <td>None</td>\n",
       "      <td>3763</td>\n",
       "    </tr>\n",
       "    <tr>\n",
       "      <th>1</th>\n",
       "      <td>2</td>\n",
       "      <td>Vehicle</td>\n",
       "      <td>None</td>\n",
       "      <td>3610</td>\n",
       "    </tr>\n",
       "    <tr>\n",
       "      <th>2</th>\n",
       "      <td>3</td>\n",
       "      <td>Vehicle</td>\n",
       "      <td>None</td>\n",
       "      <td>4378</td>\n",
       "    </tr>\n",
       "    <tr>\n",
       "      <th>3</th>\n",
       "      <td>4</td>\n",
       "      <td>Vehicle</td>\n",
       "      <td>None</td>\n",
       "      <td>3456</td>\n",
       "    </tr>\n",
       "    <tr>\n",
       "      <th>4</th>\n",
       "      <td>5</td>\n",
       "      <td>Vehicle</td>\n",
       "      <td>None</td>\n",
       "      <td>3226</td>\n",
       "    </tr>\n",
       "  </tbody>\n",
       "</table>\n",
       "</div>"
      ],
      "text/plain": [
       "   Animal_ID Condition1 Condition2  Values\n",
       "0          1    Vehicle       None    3763\n",
       "1          2    Vehicle       None    3610\n",
       "2          3    Vehicle       None    4378\n",
       "3          4    Vehicle       None    3456\n",
       "4          5    Vehicle       None    3226"
      ]
     },
     "execution_count": 18,
     "metadata": {},
     "output_type": "execute_result"
    }
   ],
   "source": [
    "# Check the dataset\n",
    "df.head()"
   ]
  },
  {
   "cell_type": "code",
   "execution_count": 19,
   "metadata": {},
   "outputs": [],
   "source": [
    "df['Group'] = df['Condition1'] + '-' + df['Condition2']"
   ]
  },
  {
   "cell_type": "code",
   "execution_count": 20,
   "metadata": {},
   "outputs": [],
   "source": [
    "# Perform Two-Way ANOVA and print results\n",
    "lm = smf.ols('Values ~ Condition1 * Condition2', data=df).fit()"
   ]
  },
  {
   "cell_type": "code",
   "execution_count": 21,
   "metadata": {},
   "outputs": [
    {
     "data": {
      "text/html": [
       "<div>\n",
       "<style scoped>\n",
       "    .dataframe tbody tr th:only-of-type {\n",
       "        vertical-align: middle;\n",
       "    }\n",
       "\n",
       "    .dataframe tbody tr th {\n",
       "        vertical-align: top;\n",
       "    }\n",
       "\n",
       "    .dataframe thead th {\n",
       "        text-align: right;\n",
       "    }\n",
       "</style>\n",
       "<table border=\"1\" class=\"dataframe\">\n",
       "  <thead>\n",
       "    <tr style=\"text-align: right;\">\n",
       "      <th></th>\n",
       "      <th>df</th>\n",
       "      <th>sum_sq</th>\n",
       "      <th>mean_sq</th>\n",
       "      <th>F</th>\n",
       "      <th>PR(&gt;F)</th>\n",
       "    </tr>\n",
       "  </thead>\n",
       "  <tbody>\n",
       "    <tr>\n",
       "      <th>Condition1</th>\n",
       "      <td>1.0</td>\n",
       "      <td>2675461.25</td>\n",
       "      <td>2675461.250</td>\n",
       "      <td>14.846322</td>\n",
       "      <td>0.001406</td>\n",
       "    </tr>\n",
       "    <tr>\n",
       "      <th>Condition2</th>\n",
       "      <td>1.0</td>\n",
       "      <td>2126172.05</td>\n",
       "      <td>2126172.050</td>\n",
       "      <td>11.798278</td>\n",
       "      <td>0.003401</td>\n",
       "    </tr>\n",
       "    <tr>\n",
       "      <th>Condition1:Condition2</th>\n",
       "      <td>1.0</td>\n",
       "      <td>2538281.25</td>\n",
       "      <td>2538281.250</td>\n",
       "      <td>14.085101</td>\n",
       "      <td>0.001737</td>\n",
       "    </tr>\n",
       "    <tr>\n",
       "      <th>Residual</th>\n",
       "      <td>16.0</td>\n",
       "      <td>2883366.00</td>\n",
       "      <td>180210.375</td>\n",
       "      <td>NaN</td>\n",
       "      <td>NaN</td>\n",
       "    </tr>\n",
       "  </tbody>\n",
       "</table>\n",
       "</div>"
      ],
      "text/plain": [
       "                         df      sum_sq      mean_sq          F    PR(>F)\n",
       "Condition1              1.0  2675461.25  2675461.250  14.846322  0.001406\n",
       "Condition2              1.0  2126172.05  2126172.050  11.798278  0.003401\n",
       "Condition1:Condition2   1.0  2538281.25  2538281.250  14.085101  0.001737\n",
       "Residual               16.0  2883366.00   180210.375        NaN       NaN"
      ]
     },
     "execution_count": 21,
     "metadata": {},
     "output_type": "execute_result"
    }
   ],
   "source": [
    "# Print Two-Way ANOVA Table\n",
    "anova_lm(lm)"
   ]
  },
  {
   "cell_type": "code",
   "execution_count": 22,
   "metadata": {},
   "outputs": [
    {
     "data": {
      "text/html": [
       "<table class=\"simpletable\">\n",
       "<caption>Multiple Comparison of Means - Tukey HSD, FWER=0.05</caption>\n",
       "<tr>\n",
       "    <th>group1</th>      <th>group2</th>    <th>meandiff</th> <th>p-adj</th>    <th>lower</th>     <th>upper</th>   <th>reject</th>\n",
       "</tr>\n",
       "<tr>\n",
       "    <td>Ttt-LD</td>     <td>Ttt-None</td>    <td>-1364.6</td> <td>0.001</td> <td>-2132.8013</td> <td>-596.3987</td>  <td>True</td> \n",
       "</tr>\n",
       "<tr>\n",
       "    <td>Ttt-LD</td>    <td>Vehicle-LD</td>    <td>19.0</td>    <td>0.9</td>   <td>-749.2013</td> <td>787.2013</td>   <td>False</td>\n",
       "</tr>\n",
       "<tr>\n",
       "    <td>Ttt-LD</td>   <td>Vehicle-None</td>   <td>79.4</td>    <td>0.9</td>   <td>-688.8013</td> <td>847.6013</td>   <td>False</td>\n",
       "</tr>\n",
       "<tr>\n",
       "   <td>Ttt-None</td>   <td>Vehicle-LD</td>   <td>1383.6</td>  <td>0.001</td>  <td>615.3987</td>  <td>2151.8013</td>  <td>True</td> \n",
       "</tr>\n",
       "<tr>\n",
       "   <td>Ttt-None</td>  <td>Vehicle-None</td>  <td>1444.0</td>  <td>0.001</td>  <td>675.7987</td>  <td>2212.2013</td>  <td>True</td> \n",
       "</tr>\n",
       "<tr>\n",
       "  <td>Vehicle-LD</td> <td>Vehicle-None</td>   <td>60.4</td>    <td>0.9</td>   <td>-707.8013</td> <td>828.6013</td>   <td>False</td>\n",
       "</tr>\n",
       "</table>"
      ],
      "text/plain": [
       "<class 'statsmodels.iolib.table.SimpleTable'>"
      ]
     },
     "execution_count": 22,
     "metadata": {},
     "output_type": "execute_result"
    }
   ],
   "source": [
    "tuk = pairwise_tukeyhsd(df['Values'], df['Group'])\n",
    "tuk.summary()"
   ]
  },
  {
   "cell_type": "code",
   "execution_count": 23,
   "metadata": {},
   "outputs": [],
   "source": [
    "# Create object\n",
    "data = dabest.load(data=df, x='Group', y='Values', \n",
    "                   idx=(('Vehicle-None','Ttt-None'), ('Vehicle-LD', 'Ttt-LD')), \n",
    "                   id_col='Animal_ID', paired=False)"
   ]
  },
  {
   "cell_type": "code",
   "execution_count": 24,
   "metadata": {},
   "outputs": [],
   "source": [
    "# Plot details \n",
    "\n",
    "'''Label of the left Y axis'''\n",
    "y_label = 'Levels of the best protein'  \n",
    "\n",
    "'''\n",
    "Left Y axis limits. Use the format (min, max). \n",
    "If left None the program will decide. \n",
    "'''\n",
    "y_axis_lim = None  \n",
    "\n",
    "'''\n",
    "Colors of the group. \n",
    "Use https://matplotlib.org/stable/gallery/color/named_colors.html for color code.\n",
    "You can also use hexadecimal colors with the #XXXXXX. \n",
    "As a list: ['a', 'b', 'c', ...]\n",
    "'''\n",
    "colors = ['black', 'orange', 'red', 'blue'] \n",
    "\n",
    "'''\n",
    "Label of the right Y axis\n",
    "'''\n",
    "contrast_label = 'Mean difference'\n",
    "\n",
    "'''\n",
    "Group names. \n",
    "As a list: ['a', 'b', 'c', ...]\n",
    "'''\n",
    "group_names = ['Ctrl', \"Ttt\", \"Ctrl+LD\", 'Ttt+LD']\n",
    "\n",
    "'''\n",
    "Name of x ticks for contrast plot\n",
    "'''\n",
    "contrast_x_names = ['', 'Effect size', '', 'Effect size']\n",
    "\n",
    "\n",
    "'''\n",
    "Name of the output file.\n",
    "Include the desired extenstion (.pdf, .png)\n",
    "'''\n",
    "output = 'Figure3.pdf'"
   ]
  },
  {
   "cell_type": "code",
   "execution_count": 25,
   "metadata": {},
   "outputs": [
    {
     "name": "stderr",
     "output_type": "stream",
     "text": [
      "/opt/anaconda3/lib/python3.7/site-packages/ipykernel_launcher.py:17: UserWarning: This figure includes Axes that are not compatible with tight_layout, so results might be incorrect.\n",
      "/opt/anaconda3/lib/python3.7/site-packages/ipykernel_launcher.py:17: UserWarning: This figure includes Axes that are not compatible with tight_layout, so results might be incorrect.\n",
      "/opt/anaconda3/lib/python3.7/site-packages/IPython/core/pylabtools.py:132: UserWarning: This figure includes Axes that are not compatible with tight_layout, so results might be incorrect.\n",
      "  fig.canvas.print_figure(bytes_io, **kw)\n"
     ]
    },
    {
     "data": {
      "image/png": "[encoded data removed]",
      "text/plain": [
       "<Figure size 700x800 with 2 Axes>"
      ]
     },
     "metadata": {
      "needs_background": "light"
     },
     "output_type": "display_data"
    }
   ],
   "source": [
    "# Do the plot\n",
    "p = data.mean_diff.plot(swarm_label=y_label, \n",
    "                        swarm_ylim=y_axis_lim,\n",
    "                        custom_palette=colors, \n",
    "                        swarm_desat=.6, \n",
    "                        contrast_label=contrast_label,\n",
    "                        halfviolin_alpha=.5, \n",
    "                        halfviolin_desat=1, \n",
    "                        fig_size=(7,8))\n",
    "\n",
    "rawdata_axes = p.axes[0]\n",
    "effsize_axes = p.axes[1]\n",
    "\n",
    "rawdata_axes.set_xticklabels(group_names)\n",
    "effsize_axes.set_xticklabels(contrast_x_names)\n",
    "\n",
    "plt.savefig('./{}'.format(output))\n",
    "\n",
    "plt.show()"
   ]
  },
  {
   "cell_type": "code",
   "execution_count": 26,
   "metadata": {},
   "outputs": [],
   "source": [
    "# Export the stats in an Excel sheet with a similar name as the figure\n",
    "with pd.ExcelWriter(f\"{output.split('.')[0]}-stats.xlsx\") as writer:\n",
    "    anova_lm(lm).to_excel(writer, 'ANOVA')\n",
    "    pd.DataFrame(tuk.summary()).to_excel(writer, 'Post-hoc', index=None)"
   ]
  },
  {
   "cell_type": "markdown",
   "metadata": {},
   "source": [
    "## Figure 4 - 3 groups with a shared control"
   ]
  },
  {
   "cell_type": "code",
   "execution_count": 27,
   "metadata": {},
   "outputs": [],
   "source": [
    "# Load file\n",
    "df = pd.read_excel('./datasets/Fig_data.xlsx', sheet_name='shared_control')"
   ]
  },
  {
   "cell_type": "code",
   "execution_count": 28,
   "metadata": {},
   "outputs": [
    {
     "data": {
      "text/html": [
       "<div>\n",
       "<style scoped>\n",
       "    .dataframe tbody tr th:only-of-type {\n",
       "        vertical-align: middle;\n",
       "    }\n",
       "\n",
       "    .dataframe tbody tr th {\n",
       "        vertical-align: top;\n",
       "    }\n",
       "\n",
       "    .dataframe thead th {\n",
       "        text-align: right;\n",
       "    }\n",
       "</style>\n",
       "<table border=\"1\" class=\"dataframe\">\n",
       "  <thead>\n",
       "    <tr style=\"text-align: right;\">\n",
       "      <th></th>\n",
       "      <th>Animal_ID</th>\n",
       "      <th>Group</th>\n",
       "      <th>Values</th>\n",
       "    </tr>\n",
       "  </thead>\n",
       "  <tbody>\n",
       "    <tr>\n",
       "      <th>0</th>\n",
       "      <td>1</td>\n",
       "      <td>Vehicle</td>\n",
       "      <td>3763</td>\n",
       "    </tr>\n",
       "    <tr>\n",
       "      <th>1</th>\n",
       "      <td>2</td>\n",
       "      <td>Vehicle</td>\n",
       "      <td>3610</td>\n",
       "    </tr>\n",
       "    <tr>\n",
       "      <th>2</th>\n",
       "      <td>3</td>\n",
       "      <td>Vehicle</td>\n",
       "      <td>4378</td>\n",
       "    </tr>\n",
       "    <tr>\n",
       "      <th>3</th>\n",
       "      <td>4</td>\n",
       "      <td>Vehicle</td>\n",
       "      <td>3456</td>\n",
       "    </tr>\n",
       "    <tr>\n",
       "      <th>4</th>\n",
       "      <td>5</td>\n",
       "      <td>Vehicle</td>\n",
       "      <td>3226</td>\n",
       "    </tr>\n",
       "  </tbody>\n",
       "</table>\n",
       "</div>"
      ],
      "text/plain": [
       "   Animal_ID    Group  Values\n",
       "0          1  Vehicle    3763\n",
       "1          2  Vehicle    3610\n",
       "2          3  Vehicle    4378\n",
       "3          4  Vehicle    3456\n",
       "4          5  Vehicle    3226"
      ]
     },
     "execution_count": 28,
     "metadata": {},
     "output_type": "execute_result"
    }
   ],
   "source": [
    "# Check the dataframe\n",
    "df.head()"
   ]
  },
  {
   "cell_type": "code",
   "execution_count": 29,
   "metadata": {},
   "outputs": [
    {
     "name": "stdout",
     "output_type": "stream",
     "text": [
      "One-Way ANOVA\n",
      "F(3, 16) = 13.505769\n",
      "p value = 0.00011913384063855029\n"
     ]
    }
   ],
   "source": [
    "# Perform One-Way ANOVA and print results\n",
    "\n",
    "lm = smf.ols('Values ~ C(Group)', data=df).fit()\n",
    "print(\"One-Way ANOVA\")\n",
    "print(f'F({int(lm.df_model)}, {int(lm.df_resid)}) = {lm.fvalue:.6f}')\n",
    "print(f'p value = {lm.f_pvalue}')"
   ]
  },
  {
   "cell_type": "code",
   "execution_count": 30,
   "metadata": {},
   "outputs": [
    {
     "data": {
      "text/html": [
       "<table class=\"simpletable\">\n",
       "<caption>Multiple Comparison of Means - Tukey HSD, FWER=0.05</caption>\n",
       "<tr>\n",
       "   <th>group1</th>    <th>group2</th>   <th>meandiff</th> <th>p-adj</th>   <th>lower</th>     <th>upper</th>   <th>reject</th>\n",
       "</tr>\n",
       "<tr>\n",
       "     <td>Ttt</td>    <td>Ttt + PP</td>   <td>1383.6</td>  <td>0.001</td> <td>610.1679</td>  <td>2157.0321</td>  <td>True</td> \n",
       "</tr>\n",
       "<tr>\n",
       "     <td>Ttt</td>    <td>Ttt + PP2</td>  <td>1383.6</td>  <td>0.001</td> <td>610.1679</td>  <td>2157.0321</td>  <td>True</td> \n",
       "</tr>\n",
       "<tr>\n",
       "     <td>Ttt</td>     <td>Vehicle</td>   <td>1444.0</td>  <td>0.001</td> <td>670.5679</td>  <td>2217.4321</td>  <td>True</td> \n",
       "</tr>\n",
       "<tr>\n",
       "  <td>Ttt + PP</td>  <td>Ttt + PP2</td>    <td>0.0</td>    <td>0.9</td>  <td>-773.4321</td> <td>773.4321</td>   <td>False</td>\n",
       "</tr>\n",
       "<tr>\n",
       "  <td>Ttt + PP</td>   <td>Vehicle</td>    <td>60.4</td>    <td>0.9</td>  <td>-713.0321</td> <td>833.8321</td>   <td>False</td>\n",
       "</tr>\n",
       "<tr>\n",
       "  <td>Ttt + PP2</td>  <td>Vehicle</td>    <td>60.4</td>    <td>0.9</td>  <td>-713.0321</td> <td>833.8321</td>   <td>False</td>\n",
       "</tr>\n",
       "</table>"
      ],
      "text/plain": [
       "<class 'statsmodels.iolib.table.SimpleTable'>"
      ]
     },
     "execution_count": 30,
     "metadata": {},
     "output_type": "execute_result"
    }
   ],
   "source": [
    "tuk = pairwise_tukeyhsd(df['Values'], df['Group'])\n",
    "tuk.summary()"
   ]
  },
  {
   "cell_type": "code",
   "execution_count": 31,
   "metadata": {},
   "outputs": [],
   "source": [
    "# Create object\n",
    "data = dabest.load(data=df, x='Group', y='Values', \n",
    "                   idx=('Vehicle', 'Ttt', 'Ttt + PP', 'Ttt + PP2'), \n",
    "                   id_col='Animal_ID', paired=False)"
   ]
  },
  {
   "cell_type": "code",
   "execution_count": 32,
   "metadata": {},
   "outputs": [],
   "source": [
    "# Plot details \n",
    "\n",
    "'''Label of the left Y axis'''\n",
    "y_label = 'Behavioral output'  \n",
    "\n",
    "'''\n",
    "Left Y axis limits. Use the format (min, max). \n",
    "If left None the program will decide. \n",
    "'''\n",
    "y_axis_lim = None  \n",
    "\n",
    "'''\n",
    "Colors of the group. \n",
    "Use https://matplotlib.org/stable/gallery/color/named_colors.html for color code.\n",
    "You can also use hexadecimal colors with the #XXXXXX. \n",
    "As a list: ['a', 'b', 'c', ...]\n",
    "'''\n",
    "colors = ['black', 'red', 'orange', 'blue'] \n",
    "\n",
    "'''\n",
    "Label of the right Y axis\n",
    "'''\n",
    "contrast_label = 'Mean difference'\n",
    "\n",
    "'''\n",
    "Group names. \n",
    "As a list: ['a', 'b', 'c', ...]\n",
    "'''\n",
    "group_names = ['Ctrl', \"Ttt\", \"Ttt+PP\", 'Ttt+PP2']\n",
    "\n",
    "'''\n",
    "Name of the output file.\n",
    "Include the desired extenstion (.pdf, .png)\n",
    "'''\n",
    "output = 'Figure4.pdf'"
   ]
  },
  {
   "cell_type": "code",
   "execution_count": 33,
   "metadata": {},
   "outputs": [
    {
     "name": "stderr",
     "output_type": "stream",
     "text": [
      "/opt/anaconda3/lib/python3.7/site-packages/ipykernel_launcher.py:17: UserWarning: This figure includes Axes that are not compatible with tight_layout, so results might be incorrect.\n",
      "/opt/anaconda3/lib/python3.7/site-packages/ipykernel_launcher.py:17: UserWarning: This figure includes Axes that are not compatible with tight_layout, so results might be incorrect.\n",
      "/opt/anaconda3/lib/python3.7/site-packages/IPython/core/pylabtools.py:132: UserWarning: This figure includes Axes that are not compatible with tight_layout, so results might be incorrect.\n",
      "  fig.canvas.print_figure(bytes_io, **kw)\n"
     ]
    },
    {
     "data": {
      "image/png": "[encoded data removed]",
      "text/plain": [
       "<Figure size 700x800 with 2 Axes>"
      ]
     },
     "metadata": {
      "needs_background": "light"
     },
     "output_type": "display_data"
    }
   ],
   "source": [
    "# Do the plot\n",
    "p = data.mean_diff.plot(swarm_label=y_label, \n",
    "                        swarm_ylim=y_axis_lim,\n",
    "                        custom_palette=colors, \n",
    "                        swarm_desat=.6, \n",
    "                        contrast_label=contrast_label,\n",
    "                        halfviolin_alpha=.5, \n",
    "                        halfviolin_desat=1, \n",
    "                        fig_size=(7,8))\n",
    "\n",
    "rawdata_axes = p.axes[0]\n",
    "effsize_axes = p.axes[1]\n",
    "\n",
    "rawdata_axes.set_xticklabels(group_names)\n",
    "effsize_axes.set_xticklabels([\"\", \"Effect size\", 'Effect size', \"Effect size\"])\n",
    "\n",
    "plt.savefig('./{}'.format(output))\n",
    "\n",
    "plt.show()"
   ]
  },
  {
   "cell_type": "code",
   "execution_count": 34,
   "metadata": {},
   "outputs": [],
   "source": [
    "# Export the stats in an Excel sheet with a similar name as the figure\n",
    "with pd.ExcelWriter(f\"{output.split('.')[0]}-stats.xlsx\") as writer:\n",
    "    anova_lm(lm).to_excel(writer, 'ANOVA')\n",
    "    pd.DataFrame(tuk.summary()).to_excel(writer, 'Post-hoc', index=None)"
   ]
  },
  {
   "cell_type": "markdown",
   "metadata": {},
   "source": [
    "## Figure 5 - Loops with identical Y labels "
   ]
  },
  {
   "cell_type": "code",
   "execution_count": 35,
   "metadata": {},
   "outputs": [],
   "source": [
    "# Load file\n",
    "df = pd.read_excel('./datasets/Fig_data.xlsx', sheet_name='loop')"
   ]
  },
  {
   "cell_type": "code",
   "execution_count": 36,
   "metadata": {},
   "outputs": [],
   "source": [
    "# Plot details \n",
    "\n",
    "'''Label of the left Y axis'''\n",
    "y_label = 'Biochemical measure'  \n",
    "\n",
    "'''\n",
    "Left Y axis limits. Use the format (min, max). \n",
    "If left None the program will decide. \n",
    "'''\n",
    "y_axis_lim = (0,200)  \n",
    "\n",
    "'''\n",
    "Colors of the group. \n",
    "Use https://matplotlib.org/stable/gallery/color/named_colors.html for color code.\n",
    "You can also use hexadecimal colors with the #XXXXXX. \n",
    "As a list: ['a', 'b', 'c', ...]\n",
    "'''\n",
    "colors = ['black', 'orange'] \n",
    "\n",
    "'''\n",
    "Label of the right Y axis\n",
    "'''\n",
    "contrast_label = 'Mean difference'\n",
    "\n",
    "'''\n",
    "Group names. \n",
    "As a list: ['a', 'b', 'c', ...]\n",
    "'''\n",
    "group_names = ['Ctrl', \"Ttt\"]\n",
    "\n",
    "'''\n",
    "Name of the output file.\n",
    "Include the desired extenstion (.pdf, .png)\n",
    "'''\n",
    "output = 'Figure5.pdf'"
   ]
  },
  {
   "cell_type": "code",
   "execution_count": 37,
   "metadata": {},
   "outputs": [
    {
     "name": "stdout",
     "output_type": "stream",
     "text": [
      "4 plots will be made\n"
     ]
    }
   ],
   "source": [
    "print(\"{} plots will be made\".format(len(df.columns[2:])))"
   ]
  },
  {
   "cell_type": "code",
   "execution_count": 38,
   "metadata": {},
   "outputs": [
    {
     "data": {
      "image/png": "[encoded data removed]",
      "text/plain": [
       "<Figure size 400x300 with 2 Axes>"
      ]
     },
     "metadata": {
      "needs_background": "light"
     },
     "output_type": "display_data"
    },
    {
     "data": {
      "image/png": "[encoded data removed]",
      "text/plain": [
       "<Figure size 400x300 with 2 Axes>"
      ]
     },
     "metadata": {
      "needs_background": "light"
     },
     "output_type": "display_data"
    },
    {
     "data": {
      "image/png": "[encoded data removed]",
      "text/plain": [
       "<Figure size 400x300 with 2 Axes>"
      ]
     },
     "metadata": {
      "needs_background": "light"
     },
     "output_type": "display_data"
    },
    {
     "data": {
      "image/png": "[encoded data removed]",
      "text/plain": [
       "<Figure size 400x300 with 2 Axes>"
      ]
     },
     "metadata": {
      "needs_background": "light"
     },
     "output_type": "display_data"
    }
   ],
   "source": [
    "for index, col in enumerate(df.columns[2:]):\n",
    "    \n",
    "    filename = output.split('.')\n",
    "    \n",
    "    # Create object\n",
    "    data = dabest.load(data=df, x='Group', y=col, \n",
    "                   idx=('Vehicle', 'Ttt'), \n",
    "                   id_col='Animal_ID', paired=False)\n",
    "    \n",
    "    \n",
    "    # Save the stats in an excel file\n",
    "    data.mean_diff.statistical_tests.to_excel('./{}-{}-stats.xlsx'.format(filename[0], index))\n",
    "    \n",
    "    ## Do the plot\n",
    "    p = data.mean_diff.plot(group_summaries='mean_sd', \n",
    "                            swarm_label=y_label, \n",
    "                            swarm_ylim=y_axis_lim,\n",
    "                            custom_palette=colors, \n",
    "                            swarm_desat=.6, \n",
    "                            contrast_label=contrast_label,\n",
    "                            halfviolin_alpha=.5, \n",
    "                            halfviolin_desat=1, \n",
    "                            fig_size=(4,3))\n",
    "\n",
    "    rawdata_axes = p.axes[0]\n",
    "    effsize_axes = p.axes[1]\n",
    "\n",
    "    rawdata_axes.set_xticklabels(group_names)\n",
    "    effsize_axes.set_xticklabels([\"\", \"Effect size\"])\n",
    "    \n",
    "    plt.savefig('./{}-{}.{}'.format(filename[0], index, filename[1]))\n",
    "\n",
    "    plt.show()"
   ]
  },
  {
   "cell_type": "markdown",
   "metadata": {},
   "source": [
    "## Figure 6 - Loops with different Y axis labels"
   ]
  },
  {
   "cell_type": "code",
   "execution_count": 39,
   "metadata": {},
   "outputs": [],
   "source": [
    "# Load file\n",
    "df = pd.read_excel('./datasets/Fig_data.xlsx', sheet_name='loop')"
   ]
  },
  {
   "cell_type": "code",
   "execution_count": 40,
   "metadata": {},
   "outputs": [],
   "source": [
    "# Plot details \n",
    "\n",
    "'''Label of the left Y axis'''\n",
    "y_label = ['Measure 1', 'Method 2', 'Thing 3', 'Output 4']\n",
    "\n",
    "'''\n",
    "Left Y axis limits. Use the format (min, max). \n",
    "If left None the program will decide. \n",
    "'''\n",
    "y_axis_lim = None  \n",
    "\n",
    "'''\n",
    "Colors of the group. \n",
    "Use https://matplotlib.org/stable/gallery/color/named_colors.html for color code.\n",
    "You can also use hexadecimal colors with the #XXXXXX. \n",
    "As a list: ['a', 'b', 'c', ...]\n",
    "'''\n",
    "colors = ['black', 'orange'] \n",
    "\n",
    "'''\n",
    "Label of the right Y axis\n",
    "'''\n",
    "contrast_label = 'Mean difference'\n",
    "\n",
    "'''\n",
    "Group names. \n",
    "As a list: ['a', 'b', 'c', ...]\n",
    "'''\n",
    "group_names = ['Ctrl', \"Ttt\"]\n",
    "\n",
    "'''\n",
    "Name of the output file.\n",
    "Include the desired extenstion (.pdf, .png)\n",
    "'''\n",
    "output = 'Figure6.pdf'"
   ]
  },
  {
   "cell_type": "code",
   "execution_count": 41,
   "metadata": {},
   "outputs": [
    {
     "data": {
      "image/png": "[encoded data removed]",
      "text/plain": [
       "<Figure size 400x300 with 2 Axes>"
      ]
     },
     "metadata": {
      "needs_background": "light"
     },
     "output_type": "display_data"
    },
    {
     "data": {
      "image/png": "[encoded data removed]",
      "text/plain": [
       "<Figure size 400x300 with 2 Axes>"
      ]
     },
     "metadata": {
      "needs_background": "light"
     },
     "output_type": "display_data"
    },
    {
     "data": {
      "image/png": "[encoded data removed]",
      "text/plain": [
       "<Figure size 400x300 with 2 Axes>"
      ]
     },
     "metadata": {
      "needs_background": "light"
     },
     "output_type": "display_data"
    },
    {
     "data": {
      "image/png": "[encoded data removed]",
      "text/plain": [
       "<Figure size 400x300 with 2 Axes>"
      ]
     },
     "metadata": {
      "needs_background": "light"
     },
     "output_type": "display_data"
    }
   ],
   "source": [
    "for index, col in enumerate(df.columns[2:]):\n",
    "    \n",
    "    filename = output.split('.')\n",
    "    \n",
    "    # Create object\n",
    "    data = dabest.load(data=df, x='Group', y=col, \n",
    "                   idx=('Vehicle', 'Ttt'), \n",
    "                   id_col='Animal_ID', paired=False)\n",
    "    \n",
    "    # Save the stats in an excel file\n",
    "    data.mean_diff.statistical_tests.to_excel('./{}-{}-stats.xlsx'.format(filename[0], index))\n",
    "    \n",
    "    \n",
    "    # Do the plot\n",
    "    p = data.mean_diff.plot(group_summaries='mean_sd', \n",
    "                            swarm_label=y_label[index], \n",
    "                            swarm_ylim=y_axis_lim,\n",
    "                            custom_palette=colors, \n",
    "                            swarm_desat=.6, \n",
    "                            contrast_label=contrast_label,\n",
    "                            halfviolin_alpha=.5, \n",
    "                            halfviolin_desat=1, \n",
    "                            fig_size=(4,3))\n",
    "\n",
    "    rawdata_axes = p.axes[0]\n",
    "    effsize_axes = p.axes[1]\n",
    "\n",
    "    rawdata_axes.set_xticklabels(group_names)\n",
    "    effsize_axes.set_xticklabels([\"\", \"Effect size\"])\n",
    "    \n",
    "    filename = output.split('.')\n",
    "    \n",
    "    plt.savefig('./{}-{}.{}'.format(filename[0], col, filename[1]))\n",
    "\n",
    "    plt.show()"
   ]
  }
 ],
 "metadata": {
  "kernelspec": {
   "display_name": "math",
   "language": "python",
   "name": "math"
  },
  "language_info": {
   "codemirror_mode": {
    "name": "ipython",
    "version": 3
   },
   "file_extension": ".py",
   "mimetype": "text/x-python",
   "name": "python",
   "nbconvert_exporter": "python",
   "pygments_lexer": "ipython3",
   "version": "3.7.6"
  }
 },
 "nbformat": 4,
 "nbformat_minor": 4
}
